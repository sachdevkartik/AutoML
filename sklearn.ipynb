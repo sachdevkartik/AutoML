{
 "cells": [
  {
   "cell_type": "code",
   "execution_count": 1,
   "metadata": {
    "_cell_guid": "b1076dfc-b9ad-4769-8c92-a6c4dae69d19",
    "_uuid": "8f2839f25d086af736a60e9eeb907d3b93b6e0e5"
   },
   "outputs": [],
   "source": [
    "import numpy as np\n",
    "import pandas as pd\n",
    "\n",
    "import os"
   ]
  },
  {
   "cell_type": "code",
   "execution_count": 3,
   "metadata": {},
   "outputs": [],
   "source": [
    "import pandas as pd\n",
    "\n",
    "pd.set_option('display.max_rows', 100)\n",
    "\n",
    "df_train = pd.read_csv(\"data_train.csv\")\n",
    "\n",
    "df_test = pd.read_csv(\"data_test.csv\")\n",
    "\n",
    "sub = pd.read_csv(\"sample_submission.csv\")\n",
    "\n",
    "%matplotlib inline\n",
    "pd.set_option('display.max_columns', None)"
   ]
  },
  {
   "cell_type": "code",
   "execution_count": 4,
   "metadata": {},
   "outputs": [],
   "source": [
    "from sklearn.model_selection import cross_val_score\n",
    "from sklearn.ensemble import RandomForestClassifier\n",
    "from sklearn.metrics import confusion_matrix\n",
    "from sklearn.model_selection import cross_validate\n",
    "\n",
    "import matplotlib.pyplot as plt\n",
    "from itertools import cycle\n",
    "\n",
    "from sklearn.metrics import roc_curve, auc, roc_auc_score, confusion_matrix, accuracy_score\n",
    "from sklearn.model_selection import StratifiedKFold\n",
    "from xgboost import XGBClassifier\n",
    "from lightgbm import LGBMClassifier\n",
    "\n",
    "import numpy as np\n",
    "from tqdm import tqdm"
   ]
  },
  {
   "cell_type": "code",
   "execution_count": 5,
   "metadata": {},
   "outputs": [],
   "source": [
    "from sklearn import preprocessing\n",
    "\n",
    "#le = preprocessing.LabelEncoder()\n",
    "categ = df_train.select_dtypes(include = \"object\").columns\n",
    "\n",
    "for feat in categ:\n",
    "    df_train[feat] = df_train[feat].astype(\"category\") #le.fit_transform(df_train[feat].astype(str))"
   ]
  },
  {
   "cell_type": "code",
   "execution_count": 6,
   "metadata": {},
   "outputs": [],
   "source": [
    "df_train.drop(columns = df_train.select_dtypes(include = \"float\").loc[:, df_train.select_dtypes(include = \"float\").std() < .1], inplace=True)"
   ]
  },
  {
   "cell_type": "code",
   "execution_count": 7,
   "metadata": {},
   "outputs": [],
   "source": [
    "X = df_train[df_train.columns[df_train.columns!=\"class\"]]\n",
    "y = df_train[df_train.columns[df_train.columns==\"class\"]]"
   ]
  },
  {
   "cell_type": "code",
   "execution_count": 11,
   "metadata": {},
   "outputs": [
    {
     "name": "stderr",
     "output_type": "stream",
     "text": [
      "C:\\Users\\ffede\\Venv\\lib\\site-packages\\sklearn\\utils\\validation.py:73: DataConversionWarning: A column-vector y was passed when a 1d array was expected. Please change the shape of y to (n_samples, ), for example using ravel().\n",
      "  return f(**kwargs)\n"
     ]
    }
   ],
   "source": [
    "from sklearn.preprocessing import OneHotEncoder, LabelEncoder \n",
    "\n",
    "lh = LabelEncoder()\n",
    "y_lh = lh.fit_transform(y)"
   ]
  },
  {
   "cell_type": "code",
   "execution_count": null,
   "metadata": {},
   "outputs": [
    {
     "name": "stderr",
     "output_type": "stream",
     "text": [
      "  0%|                                                                                            | 0/5 [00:00<?, ?it/s]C:\\Users\\ffede\\Venv\\lib\\site-packages\\sklearn\\utils\\validation.py:73: DataConversionWarning: A column-vector y was passed when a 1d array was expected. Please change the shape of y to (n_samples, ), for example using ravel().\n",
      "  return f(**kwargs)\n"
     ]
    }
   ],
   "source": [
    "n_samples, n_features = X.shape\n",
    "n_splits = 5\n",
    "cv = StratifiedKFold(n_splits=n_splits, shuffle=True, random_state=42)\n",
    "\n",
    "classifier = LGBMClassifier(learning_rate=0.1, n_estimators=300,\n",
    "                        min_child_weight=3, subsample=0.6, colsample_bytree=1.0, \n",
    "                        seed=1)\n",
    "\n",
    "#classifier = LGBMClassifier()\n",
    "\n",
    "mean_tpr = 0.0\n",
    "mean_fpr = np.linspace(0, 1, 100)\n",
    "\n",
    "acc = 0\n",
    "for (train, test) in tqdm(cv.split(X, y), total = n_splits):\n",
    "    cl = classifier.fit(X.iloc[train], y.iloc[train])\n",
    "    probas_ = cl.predict_proba(X.iloc[test])\n",
    "    local = accuracy_score(y_lh[test],np.argmax(probas_, axis=1))\n",
    "    print(local)\n",
    "    acc += local\n",
    "    \n",
    "acc = acc / n_splits\n",
    "print(\"Mean accuracy\", acc)"
   ]
  },
  {
   "cell_type": "code",
   "execution_count": 42,
   "metadata": {
    "execution": {
     "iopub.execute_input": "2021-11-10T16:04:37.249902Z",
     "iopub.status.busy": "2021-11-10T16:04:37.249628Z",
     "iopub.status.idle": "2021-11-10T16:07:57.124142Z",
     "shell.execute_reply": "2021-11-10T16:07:57.123244Z",
     "shell.execute_reply.started": "2021-11-10T16:04:37.249873Z"
    }
   },
   "outputs": [],
   "source": [
    "classifier = LGBMClassifier()\n",
    "classifier.fit(X, y)"
   ]
  },
  {
   "cell_type": "code",
   "execution_count": 44,
   "metadata": {
    "execution": {
     "iopub.execute_input": "2021-11-10T16:09:29.560335Z",
     "iopub.status.busy": "2021-11-10T16:09:29.560055Z",
     "iopub.status.idle": "2021-11-10T16:09:29.635635Z",
     "shell.execute_reply": "2021-11-10T16:09:29.634745Z",
     "shell.execute_reply.started": "2021-11-10T16:09:29.560307Z"
    }
   },
   "outputs": [],
   "source": [
    "for feat in categ[1:]:\n",
    "    df_test[feat] = df_test[feat].astype(\"category\") #le.fit_transform(df_train[feat].astype(str))\n",
    "    \n",
    "df_test.drop(columns = df_test.select_dtypes(include = \"float\").loc[:, df_test.select_dtypes(include = \"float\").std() < .1], inplace=True)"
   ]
  },
  {
   "cell_type": "code",
   "execution_count": 46,
   "metadata": {
    "execution": {
     "iopub.execute_input": "2021-11-10T16:11:05.653278Z",
     "iopub.status.busy": "2021-11-10T16:11:05.652903Z",
     "iopub.status.idle": "2021-11-10T16:11:33.724581Z",
     "shell.execute_reply": "2021-11-10T16:11:33.723857Z",
     "shell.execute_reply.started": "2021-11-10T16:11:05.653229Z"
    }
   },
   "outputs": [],
   "source": [
    "probas_ = cl.predict_proba(df_test.iloc[:,:-1])"
   ]
  },
  {
   "cell_type": "code",
   "execution_count": 60,
   "metadata": {
    "execution": {
     "iopub.execute_input": "2021-11-10T16:16:52.517814Z",
     "iopub.status.busy": "2021-11-10T16:16:52.517403Z",
     "iopub.status.idle": "2021-11-10T16:16:52.563029Z",
     "shell.execute_reply": "2021-11-10T16:16:52.562170Z",
     "shell.execute_reply.started": "2021-11-10T16:16:52.517783Z"
    }
   },
   "outputs": [],
   "source": [
    "sub = pd.read_csv(\"sample_submission.csv\", index_col=0)\n",
    "\n",
    "sub[\"Predicted\"] = lh.inverse_transform(np.argmax(probas_, axis=1))"
   ]
  },
  {
   "cell_type": "code",
   "execution_count": 62,
   "metadata": {
    "execution": {
     "iopub.execute_input": "2021-11-10T16:17:08.800906Z",
     "iopub.status.busy": "2021-11-10T16:17:08.800471Z",
     "iopub.status.idle": "2021-11-10T16:17:08.955592Z",
     "shell.execute_reply": "2021-11-10T16:17:08.954694Z",
     "shell.execute_reply.started": "2021-11-10T16:17:08.800868Z"
    }
   },
   "outputs": [],
   "source": [
    "sub.to_csv(\"vanilla_lgbm_preds.csv\")"
   ]
  },
  {
   "cell_type": "code",
   "execution_count": 37,
   "metadata": {
    "execution": {
     "iopub.execute_input": "2021-11-10T15:38:57.292964Z",
     "iopub.status.busy": "2021-11-10T15:38:57.292092Z",
     "iopub.status.idle": "2021-11-10T15:38:57.320214Z",
     "shell.execute_reply": "2021-11-10T15:38:57.319637Z",
     "shell.execute_reply.started": "2021-11-10T15:38:57.292921Z"
    }
   },
   "outputs": [],
   "source": [
    "from sklearn.preprocessing import OneHotEncoder, LabelEncoder \n",
    "\n",
    "ohe = LabelEncoder()\n",
    "y_lh = ohe.fit_transform(y)\n",
    "y_test_lh = y_lh[test]\n",
    "\n",
    "accuracy_score(y_test_lh,np.argmax(probas_, axis=1))\n",
    "#confusion_matrix(y_test_lh,np.argmax(probas_, axis=1))"
   ]
  },
  {
   "cell_type": "code",
   "execution_count": null,
   "metadata": {},
   "outputs": [],
   "source": []
  }
 ],
 "metadata": {
  "kernelspec": {
   "display_name": "venv",
   "language": "python",
   "name": "venv"
  },
  "language_info": {
   "codemirror_mode": {
    "name": "ipython",
    "version": 3
   },
   "file_extension": ".py",
   "mimetype": "text/x-python",
   "name": "python",
   "nbconvert_exporter": "python",
   "pygments_lexer": "ipython3",
   "version": "3.9.0"
  }
 },
 "nbformat": 4,
 "nbformat_minor": 4
}